{
 "cells": [
  {
   "cell_type": "code",
   "execution_count": 3,
   "id": "f5355a4a-f8af-49dd-9f2e-d51fc37ce7ac",
   "metadata": {},
   "outputs": [
    {
     "name": "stdout",
     "output_type": "stream",
     "text": [
      "2\n"
     ]
    }
   ],
   "source": [
    "#Problem 1.Given an array of n numbers, give an algorithm which gives the element appearing maximum number of times\n",
    "#the element which is appesring maximum no of times is called max frequency\n",
    "def MaxFrequency(arr):\n",
    "    frequency = {}      #taking frequency as empty set to add numbers in array\n",
    "    max_num = None      \n",
    "    max_count = 0\n",
    "    #loop for each num in an arratt\n",
    "    for num in arr:\n",
    "        #condition for knowing then number which us repeated times\n",
    "        if num in frequency:\n",
    "            frequency[num]+=1\n",
    "        else:\n",
    "            frequency[num]=1\n",
    "            #condition for knowing max count and max num\n",
    "        if frequency[num] > max_count:\n",
    "            max_count = frequency[num]\n",
    "            max_num = num\n",
    "    return max_num\n",
    "            \n",
    "arr = [1,1,1,2,2,2,2,2,3,3,4,5,6]\n",
    "result = MaxFrequency(arr)\n",
    "print(result)"
   ]
  },
  {
   "cell_type": "code",
   "execution_count": 7,
   "id": "955ef1dd-a6fb-49ba-aa74-edfd40868ce4",
   "metadata": {},
   "outputs": [
    {
     "name": "stdout",
     "output_type": "stream",
     "text": [
      "[1, 2, 3, 4, 5, 6, 7, 9, 10]\n",
      "[8]\n"
     ]
    }
   ],
   "source": [
    "'''Problem 2 : We are given a list of n-1 integers and these integers are in the range of 1 to n . There are no\n",
    "duplicates in the list. One of the integers is missing in the list. Give an algorithm to find that element Ex:\n",
    "[1,2,4,6,3,7,8] 5 is the missing num.'''\n",
    "\n",
    "\n",
    "#for doing this we have an sorted array so that we should sort our array first\n",
    "#using bubble sort to sorting\n",
    "def bubblesort(arr):\n",
    "    for i in range(len(arr)-1):\n",
    "        for j in range(len(arr)-i-1):\n",
    "            #cond to check adajacent elements and swaping\n",
    "            if arr[j]>arr[j+1]:\n",
    "                arr[j],arr[j+1] = arr[j+1],arr[j]\n",
    "\n",
    "arr = [10,9,7,6,5,4,3,2,1]\n",
    "bubblesort(arr)\n",
    "print(arr)\n",
    "\n",
    "#initialising misssing element to empty\n",
    "missingelements = []\n",
    "for num in range(1,len(arr)):\n",
    "    #condition to check missing element \n",
    "    if num not in arr:\n",
    "        missingelements.append(num)\n",
    "print(missingelement)"
   ]
  },
  {
   "cell_type": "code",
   "execution_count": 12,
   "id": "212249ad-4161-427d-a3fc-bdcbe96c4cd7",
   "metadata": {},
   "outputs": [
    {
     "name": "stdout",
     "output_type": "stream",
     "text": [
      "1\n"
     ]
    }
   ],
   "source": [
    "'''Problem 3 : Given an array of n positive numbers. All numbers occurs even number of times except 1 which\n",
    "occurs odd number of times. Find that number in O(n) time and O(1) space. Ex: [1,2,3,2,3,1,3]. 3 is repeats odd\n",
    "times.'''\n",
    "\n",
    "#here we are using XOR with each element in array result\n",
    "#will be the odd occurance of times\n",
    "''' Logical table for xor 0 0  ---> 0\n",
    "                          0 1  ---> 1\n",
    "                          1 0  ---> 1\n",
    "                          1 1  ---> 0   Binary representation'''\n",
    "def OddOccurance(arr):\n",
    "    count = 0\n",
    "    #loop for each element in an array\n",
    "    for i in arr:\n",
    "        #condition for odd occurance using xor\n",
    "         count ^= i\n",
    "    return count\n",
    "                    \n",
    "#Driver Code               \n",
    "arr = [1,2,3,2,3,1,1]\n",
    "print(OddOccurance(arr))"
   ]
  },
  {
   "cell_type": "code",
   "execution_count": 19,
   "id": "742f685f-e9f8-445a-81d2-988d33cbf742",
   "metadata": {},
   "outputs": [
    {
     "name": "stdout",
     "output_type": "stream",
     "text": [
      "Two elements whose sum is 5 and the numbers are 1 and 4.\n"
     ]
    }
   ],
   "source": [
    "#Problem 4 : Given an array of n elements. Find two elements in the array such that their sum is equal to given\n",
    "#element K.\n",
    "\n",
    "def SumOfTwo(arr,k):\n",
    "    #for this we have to sort our array first\n",
    "    arr.sort()\n",
    "    #2 point approach \n",
    "    left = 0\n",
    "    right = len(arr)-1\n",
    "    #condition for adding 2 no's\n",
    "    while left < right:\n",
    "        Sum = arr[left]+arr[right]\n",
    "        #if sum equals to k that is our result\n",
    "        if Sum == k:\n",
    "            return arr[left],arr[right]\n",
    "        elif Sum<k:\n",
    "            left += 1\n",
    "        else:\n",
    "            right -= 1\n",
    "    #if no such no exist return none\n",
    "    return none\n",
    "        \n",
    "arr = [1,2,3,4,5,6]\n",
    "result = SumOfTwo(arr,5)\n",
    "target = 5\n",
    "if result:\n",
    "    print(f\"Two elements whose sum is {target} and the numbers are {result[0]} and {result[1]}.\")\n",
    "else:\n",
    "    print(\"no such pair is found\")       "
   ]
  },
  {
   "cell_type": "code",
   "execution_count": 7,
   "id": "1eec9283-9574-4a4e-9ba2-6ad6d1155015",
   "metadata": {},
   "outputs": [
    {
     "name": "stdout",
     "output_type": "stream",
     "text": [
      "Three elements whose sum is 6 and the numbers are 2 , 3 and 1.\n"
     ]
    }
   ],
   "source": [
    "#Problem 6 : Given an array of n elements . Find three elements such that their sum is equal to the given number.\n",
    "def SumOfThree(arr,k):\n",
    "    #for this we have to sort our array first\n",
    "    arr.sort()\n",
    "    #2 point approach \n",
    "    for i in range(len(arr)-2):\n",
    "        left = i+1\n",
    "        right = len(arr)-1\n",
    "    #condition for adding 2 no's\n",
    "        while left < right:\n",
    "            Sum = arr[left]+arr[right]+arr[i]\n",
    "        #if sum equals to k that is our result\n",
    "            if Sum == k:\n",
    "                return arr[left],arr[right],arr[i]\n",
    "            elif Sum<k:\n",
    "                left += 1\n",
    "            else:\n",
    "                right -= 1\n",
    "    #if no such no exist return none\n",
    "    return none\n",
    "\n",
    "arr = [1,2,3,4,5,6]\n",
    "result = SumOfThree(arr,6)\n",
    "target = 6\n",
    "if result:\n",
    "    print(f\"Three elements whose sum is {target} and the numbers are {result[0]} , {result[1]} and {result[2]}.\")\n",
    "else:\n",
    "    print(\"no such triplet is found\")             "
   ]
  },
  {
   "cell_type": "code",
   "execution_count": 4,
   "id": "cf4c7e56-094f-45cc-b4cf-fdad4b257de9",
   "metadata": {},
   "outputs": [
    {
     "name": "stdout",
     "output_type": "stream",
     "text": [
      "The three elements in an array satisfies given condition is:  [(3, 4, 5), (6, 8, 10)]\n"
     ]
    }
   ],
   "source": [
    "#Problem 7 : Given an array of n elements . Find three elements i, j, k in the array such that i * i + j * j = k*k.\n",
    "#function definition for finding triples\n",
    "def FindTriples(arr):\n",
    "    Triples = []\n",
    "    #iterating 3 loops for i,j,k\n",
    "    for i in range(1,len(arr)):\n",
    "        for j in range(i,len(arr)):\n",
    "            for k in range(j,len(arr)):\n",
    "                #given condition\n",
    "                if i*i + j*j == k*k:\n",
    "                    Triples.append((i,j,k))\n",
    "    return Triples\n",
    "\n",
    "#drivercode\n",
    "arr = [1,2,3,4,5,6,7,8,9,10,11]\n",
    "ThreeElements = FindTriples(arr)\n",
    "print(\"The three elements in an array satisfies given condition is: \",ThreeElements)"
   ]
  },
  {
   "cell_type": "code",
   "execution_count": 7,
   "id": "4dc64de1-4937-4b14-a576-2caba0a73257",
   "metadata": {},
   "outputs": [
    {
     "name": "stdout",
     "output_type": "stream",
     "text": [
      "Row with maximum number of 0's is:  [0, 0, 0, 1]\n"
     ]
    }
   ],
   "source": [
    "#Problem 9 : Given n × n matrix, and in each row all 1’s are followed by 0’s. Find the row with the maximumnumber of 0’s.\n",
    "\n",
    "#function definition for finding max zeros\n",
    "def FindingMaxZeros(matrix):\n",
    "    #initialising max zero row and count as 0 (placeholder) to count\n",
    "    max_zero_row = 0\n",
    "    max_zero_count = 0\n",
    "    #iterating loop through row\n",
    "    for row in matrix:\n",
    "        #using inbuilt function count to count no.of zeros\n",
    "        zeros_count = row.count(0)\n",
    "        #condition for max zero count\n",
    "        if zeros_count > max_zero_count:\n",
    "            max_zero_count = zeros_count\n",
    "            max_zero_row = row\n",
    "    return max_zero_row\n",
    "\n",
    "#driver code\n",
    "matrix = [[1,1,1,0],[1,1,0,0],[0,0,0,1],[1,1,1,1]]\n",
    "result = FindingMaxZeros(matrix)\n",
    "print(\"Row with maximum number of 0's is: \",result)"
   ]
  },
  {
   "cell_type": "code",
   "execution_count": 18,
   "id": "90063042-d3cd-4edf-9930-6e0ff3d04cd6",
   "metadata": {},
   "outputs": [
    {
     "name": "stdout",
     "output_type": "stream",
     "text": [
      "After soretd the array [0, 0, 0, 0, 0, 1, 1, 1, 1, 1, 2, 2] will be [0, 0, 0, 0, 0, 1, 1, 1, 1, 1, 2, 2]\n"
     ]
    }
   ],
   "source": [
    "'''Problem 10 : Sort an array of 0’s, 1’s and 2’s [or R’s, G’s and B’s]: Given an array A[] consisting of 0’s, 1’s and\n",
    "2’s, give an algorithm for sorting A[].The algorithm should put all 0’s first, then all 1’s and finally all 2’s at the\n",
    "end. Example Input = {0,1,1,0,1,2,1,2,0,0,0,1}, Output = {0,0,0,0,0,1,1,1,1,1,2,2}'''\n",
    "\n",
    "#function definition for sorting array\n",
    "def sort(arr):\n",
    "    low = 0\n",
    "    mid = 0\n",
    "    high = len(arr)-1\n",
    "    #condition \n",
    "    while mid<=high:\n",
    "        if arr[mid] == 0:\n",
    "            arr[low],arr[mid] = arr[mid],arr[low]\n",
    "            low+=1\n",
    "            mid+=1\n",
    "        elif arr[mid] == 1:\n",
    "            mid+=1\n",
    "        else:\n",
    "            arr[mid],arr[high] = arr[high],arr[mid]\n",
    "            high -=1\n",
    "    return arr\n",
    "    \n",
    "arr = [0,1,1,0,1,2,1,2,0,0,0,1]\n",
    "result = sort(arr)\n",
    "print(f\"After soretd the array {arr} will be {result}\")"
   ]
  },
  {
   "cell_type": "code",
   "execution_count": null,
   "id": "235d138a-8b1c-4fcb-a313-3f181b93b778",
   "metadata": {},
   "outputs": [],
   "source": []
  }
 ],
 "metadata": {
  "kernelspec": {
   "display_name": "Python 3 (ipykernel)",
   "language": "python",
   "name": "python3"
  },
  "language_info": {
   "codemirror_mode": {
    "name": "ipython",
    "version": 3
   },
   "file_extension": ".py",
   "mimetype": "text/x-python",
   "name": "python",
   "nbconvert_exporter": "python",
   "pygments_lexer": "ipython3",
   "version": "3.10.8"
  }
 },
 "nbformat": 4,
 "nbformat_minor": 5
}
